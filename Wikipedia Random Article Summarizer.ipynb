{
 "cells": [
  {
   "cell_type": "code",
   "execution_count": 2,
   "id": "45b3393b",
   "metadata": {},
   "outputs": [
    {
     "name": "stdout",
     "output_type": "stream",
     "text": [
      "Collecting wikipedia\n",
      "  Downloading wikipedia-1.4.0.tar.gz (27 kB)\n",
      "  Preparing metadata (setup.py) ... \u001b[?25ldone\n",
      "\u001b[?25hRequirement already satisfied: beautifulsoup4 in /Users/sonulama/anaconda3/lib/python3.10/site-packages (from wikipedia) (4.11.1)\n",
      "Requirement already satisfied: requests<3.0.0,>=2.0.0 in /Users/sonulama/anaconda3/lib/python3.10/site-packages (from wikipedia) (2.28.1)\n",
      "Requirement already satisfied: idna<4,>=2.5 in /Users/sonulama/anaconda3/lib/python3.10/site-packages (from requests<3.0.0,>=2.0.0->wikipedia) (3.4)\n",
      "Requirement already satisfied: certifi>=2017.4.17 in /Users/sonulama/anaconda3/lib/python3.10/site-packages (from requests<3.0.0,>=2.0.0->wikipedia) (2025.4.26)\n",
      "Requirement already satisfied: urllib3<1.27,>=1.21.1 in /Users/sonulama/anaconda3/lib/python3.10/site-packages (from requests<3.0.0,>=2.0.0->wikipedia) (1.26.14)\n",
      "Requirement already satisfied: charset-normalizer<3,>=2 in /Users/sonulama/anaconda3/lib/python3.10/site-packages (from requests<3.0.0,>=2.0.0->wikipedia) (2.0.4)\n",
      "Requirement already satisfied: soupsieve>1.2 in /Users/sonulama/anaconda3/lib/python3.10/site-packages (from beautifulsoup4->wikipedia) (2.3.2.post1)\n",
      "Building wheels for collected packages: wikipedia\n",
      "  Building wheel for wikipedia (setup.py) ... \u001b[?25ldone\n",
      "\u001b[?25h  Created wheel for wikipedia: filename=wikipedia-1.4.0-py3-none-any.whl size=11680 sha256=b23d743bd98746072635c648ff5b29c85568dc402fe3167166ba506a6a79975b\n",
      "  Stored in directory: /Users/sonulama/Library/Caches/pip/wheels/b2/7f/26/524faff9145e274da278dc97d63ab0bfde1f791ecf101a9c95\n",
      "Successfully built wikipedia\n",
      "Installing collected packages: wikipedia\n",
      "Successfully installed wikipedia-1.4.0\n"
     ]
    }
   ],
   "source": [
    "!pip install wikipedia\n",
    "import wikipedia\n",
    "import random"
   ]
  },
  {
   "cell_type": "code",
   "execution_count": 7,
   "id": "c4c46a25",
   "metadata": {},
   "outputs": [],
   "source": [
    "import warnings\n",
    "# to cleanly suppress a BeautifulSoup internal warning that happens inside the wikipedia package.\n",
    "warnings.filterwarnings(\"ignore\", category=UserWarning, module='wikipedia')"
   ]
  },
  {
   "cell_type": "code",
   "execution_count": 8,
   "id": "8c58808e",
   "metadata": {},
   "outputs": [
    {
     "name": "stdout",
     "output_type": "stream",
     "text": [
      "📚 Fetching random Wikipedia articles...\n",
      "\n",
      "❌ Page not found: Rui'an\n",
      "\n",
      "📘 2. Random Article: Steidl (surname)\n",
      "📝 Summary:\n",
      "Steidl is a surname.\n",
      "\n",
      "📘 3. Random Article: Yaws (web server)\n",
      "📝 Summary:\n",
      "Yaws (Yet another web server) is a web server written in Erlang by Claes (klacke) Wikström. Yaws can be embedded into other Erlang-based applications or run as a regular standalone web server.\n",
      "\n",
      "\n",
      "== Overview ==\n",
      "Because Yaws uses Erlang's lightweight threading system, it performs well under high concurrency.\n",
      "\n",
      "✅ Done! Summaries saved to history.txt\n"
     ]
    }
   ],
   "source": [
    "# Set language to English\n",
    "wikipedia.set_lang(\"en\")\n",
    "\n",
    "# Number of articles to fetch\n",
    "ARTICLE_COUNT = 3\n",
    "\n",
    "# File to store summary history\n",
    "history_file = \"history.txt\"\n",
    "\n",
    "print(\"📚 Fetching random Wikipedia articles...\\n\")\n",
    "\n",
    "for i in range(ARTICLE_COUNT):\n",
    "    random_topic = random.choice(wikipedia.random(pages=10))\n",
    "\n",
    "    try:\n",
    "        summary = wikipedia.summary(random_topic, sentences=3)\n",
    "\n",
    "        # Display\n",
    "        print(f\"📘 {i+1}. Random Article: {random_topic}\")\n",
    "        print(f\"📝 Summary:\\n{summary}\\n\")\n",
    "\n",
    "        # Save to file\n",
    "        with open(history_file, \"a\", encoding=\"utf-8\") as f:\n",
    "            f.write(f\"\\n=== {random_topic} ===\\n{summary}\\n\")\n",
    "\n",
    "    except wikipedia.exceptions.DisambiguationError as e:\n",
    "        print(f\"⚠️ Disambiguation error for topic: {random_topic}\")\n",
    "        print(f\"Suggested options: {e.options[:5]}\\n\")\n",
    "\n",
    "    except wikipedia.exceptions.PageError:\n",
    "        print(f\"❌ Page not found: {random_topic}\\n\")\n",
    "\n",
    "print(f\"✅ Done! Summaries saved to {history_file}\")"
   ]
  },
  {
   "cell_type": "code",
   "execution_count": null,
   "id": "b57fc418",
   "metadata": {},
   "outputs": [],
   "source": []
  }
 ],
 "metadata": {
  "kernelspec": {
   "display_name": "Python 3 (ipykernel)",
   "language": "python",
   "name": "python3"
  },
  "language_info": {
   "codemirror_mode": {
    "name": "ipython",
    "version": 3
   },
   "file_extension": ".py",
   "mimetype": "text/x-python",
   "name": "python",
   "nbconvert_exporter": "python",
   "pygments_lexer": "ipython3",
   "version": "3.10.9"
  }
 },
 "nbformat": 4,
 "nbformat_minor": 5
}
